{
  "nbformat": 4,
  "nbformat_minor": 0,
  "metadata": {
    "colab": {
      "name": "Numba-1.ipynb",
      "provenance": [],
      "collapsed_sections": [],
      "authorship_tag": "ABX9TyPS5Hf3W/EwhSe7ksUnygcg",
      "include_colab_link": true
    },
    "kernelspec": {
      "name": "python3",
      "display_name": "Python 3"
    },
    "language_info": {
      "name": "python"
    },
    "accelerator": "GPU"
  },
  "cells": [
    {
      "cell_type": "markdown",
      "metadata": {
        "id": "view-in-github",
        "colab_type": "text"
      },
      "source": [
        "<a href=\"https://colab.research.google.com/github/lhuang-pvamu/Parallel-Computing-Code/blob/master/Python/Numba_1.ipynb\" target=\"_parent\"><img src=\"https://colab.research.google.com/assets/colab-badge.svg\" alt=\"Open In Colab\"/></a>"
      ]
    },
    {
      "cell_type": "markdown",
      "source": [
        "# Numba tutorial"
      ],
      "metadata": {
        "id": "6LSguhEJMMNO"
      }
    },
    {
      "cell_type": "code",
      "execution_count": null,
      "metadata": {
        "colab": {
          "base_uri": "https://localhost:8080/"
        },
        "id": "KsDzPqb5C6nw",
        "outputId": "1e8c208c-a738-4cf1-ccd2-f3433a8a7f3e"
      },
      "outputs": [
        {
          "output_type": "stream",
          "name": "stdout",
          "text": [
            "Collecting line_profiler\n",
            "  Downloading line_profiler-3.5.1-cp37-cp37m-manylinux_2_17_x86_64.manylinux2014_x86_64.whl (67 kB)\n",
            "\u001b[?25l\r\u001b[K     |████▉                           | 10 kB 26.2 MB/s eta 0:00:01\r\u001b[K     |█████████▊                      | 20 kB 19.4 MB/s eta 0:00:01\r\u001b[K     |██████████████▌                 | 30 kB 10.6 MB/s eta 0:00:01\r\u001b[K     |███████████████████▍            | 40 kB 8.7 MB/s eta 0:00:01\r\u001b[K     |████████████████████████▏       | 51 kB 6.4 MB/s eta 0:00:01\r\u001b[K     |█████████████████████████████   | 61 kB 7.5 MB/s eta 0:00:01\r\u001b[K     |████████████████████████████████| 67 kB 4.1 MB/s \n",
            "\u001b[?25hInstalling collected packages: line-profiler\n",
            "Successfully installed line-profiler-3.5.1\n"
          ]
        }
      ],
      "source": [
        "# install profilers: cProfile, line_profiler, timeit\n",
        "!pip install line_profiler"
      ]
    },
    {
      "cell_type": "code",
      "source": [
        "import numpy as np\n",
        "from time import sleep\n",
        "\n",
        "def bad_call():\n",
        "  sleep(0.5)\n",
        "\n",
        "def worse_call():\n",
        "  sleep(1)\n",
        "\n",
        "def sumulate(nums):\n",
        "  a = np.random.random((4000,4000))\n",
        "  b = a @ a  # @: matrix multiplication\n",
        "\n",
        "  ans = 0\n",
        "  for i in range(nums):\n",
        "    ans += i\n",
        "\n",
        "  bad_call()  # sleep 0.5 second\n",
        "  worse_call()  # sleep 1 second\n",
        "  return b"
      ],
      "metadata": {
        "id": "3JrBDhCYLlCi"
      },
      "execution_count": null,
      "outputs": []
    },
    {
      "cell_type": "code",
      "source": [
        "%time b=sumulate(1000)"
      ],
      "metadata": {
        "colab": {
          "base_uri": "https://localhost:8080/"
        },
        "id": "rzemV5HrNeuT",
        "outputId": "b27260d8-1a2c-48e7-d392-68af43cc7973"
      },
      "execution_count": null,
      "outputs": [
        {
          "output_type": "stream",
          "name": "stdout",
          "text": [
            "CPU times: user 6.77 s, sys: 246 ms, total: 7.01 s\n",
            "Wall time: 5.11 s\n"
          ]
        }
      ]
    },
    {
      "cell_type": "code",
      "source": [
        "b.shape"
      ],
      "metadata": {
        "colab": {
          "base_uri": "https://localhost:8080/"
        },
        "id": "FdXLJgNRNgyc",
        "outputId": "8aca8c83-a9b9-4f39-930d-c6d6027546c3"
      },
      "execution_count": null,
      "outputs": [
        {
          "output_type": "execute_result",
          "data": {
            "text/plain": [
              "(4000, 4000)"
            ]
          },
          "metadata": {},
          "execution_count": 35
        }
      ]
    },
    {
      "cell_type": "markdown",
      "source": [
        "## cProfile"
      ],
      "metadata": {
        "id": "stNzF-d8UaNa"
      }
    },
    {
      "cell_type": "code",
      "source": [
        "import cProfile"
      ],
      "metadata": {
        "id": "vBG9z1GwNmOl"
      },
      "execution_count": null,
      "outputs": []
    },
    {
      "cell_type": "code",
      "source": [
        "cProfile.run('sumulate(1000)')"
      ],
      "metadata": {
        "colab": {
          "base_uri": "https://localhost:8080/"
        },
        "id": "Kht9ThJKPHv0",
        "outputId": "1e7a2c73-9737-4ed7-8f5b-1b2d83215431"
      },
      "execution_count": null,
      "outputs": [
        {
          "output_type": "stream",
          "name": "stdout",
          "text": [
            "         9 function calls in 5.091 seconds\n",
            "\n",
            "   Ordered by: standard name\n",
            "\n",
            "   ncalls  tottime  percall  cumtime  percall filename:lineno(function)\n",
            "        1    3.441    3.441    5.090    5.090 <ipython-input-33-6cdc5c1c2d98>:10(sumulate)\n",
            "        1    0.000    0.000    0.501    0.501 <ipython-input-33-6cdc5c1c2d98>:4(bad_call)\n",
            "        1    0.000    0.000    1.001    1.001 <ipython-input-33-6cdc5c1c2d98>:7(worse_call)\n",
            "        1    0.001    0.001    5.091    5.091 <string>:1(<module>)\n",
            "        1    0.000    0.000    5.091    5.091 {built-in method builtins.exec}\n",
            "        2    1.502    0.751    1.502    0.751 {built-in method time.sleep}\n",
            "        1    0.000    0.000    0.000    0.000 {method 'disable' of '_lsprof.Profiler' objects}\n",
            "        1    0.148    0.148    0.148    0.148 {method 'random' of 'numpy.random.mtrand.RandomState' objects}\n",
            "\n",
            "\n"
          ]
        }
      ]
    },
    {
      "cell_type": "markdown",
      "source": [
        "## line_profiler"
      ],
      "metadata": {
        "id": "vTC-Zz5WUXo8"
      }
    },
    {
      "cell_type": "code",
      "source": [
        "%load_ext line_profiler"
      ],
      "metadata": {
        "id": "FdyJMxHUPVBJ"
      },
      "execution_count": null,
      "outputs": []
    },
    {
      "cell_type": "code",
      "source": [
        "%lprun -f bad_call -f worse_call sumulate(1000)"
      ],
      "metadata": {
        "id": "FG3V2-cvQWsb"
      },
      "execution_count": null,
      "outputs": []
    },
    {
      "cell_type": "code",
      "source": [
        "%lprun -T timings.txt -f sumulate sumulate(1000)"
      ],
      "metadata": {
        "colab": {
          "base_uri": "https://localhost:8080/"
        },
        "id": "yJMjs_rBQxyV",
        "outputId": "d2140d4a-89cd-4653-dedf-365c671c9a29"
      },
      "execution_count": null,
      "outputs": [
        {
          "output_type": "stream",
          "name": "stdout",
          "text": [
            "\n",
            "*** Profile printout saved to text file 'timings.txt'. \n"
          ]
        }
      ]
    },
    {
      "cell_type": "markdown",
      "source": [
        "## timeit"
      ],
      "metadata": {
        "id": "RGO6Q6eWUUS6"
      }
    },
    {
      "cell_type": "code",
      "source": [
        "%timeit x=9"
      ],
      "metadata": {
        "colab": {
          "base_uri": "https://localhost:8080/"
        },
        "id": "aRZPIoa7RYkz",
        "outputId": "3ba46479-6813-440b-85ac-5d94a1fdb901"
      },
      "execution_count": null,
      "outputs": [
        {
          "output_type": "stream",
          "name": "stdout",
          "text": [
            "10000000 loops, best of 5: 20.6 ns per loop\n"
          ]
        }
      ]
    },
    {
      "cell_type": "code",
      "source": [
        "%time x=9"
      ],
      "metadata": {
        "colab": {
          "base_uri": "https://localhost:8080/"
        },
        "id": "zYnwphFeUiDy",
        "outputId": "69e5bfd8-5802-452b-fc02-a280188dda22"
      },
      "execution_count": null,
      "outputs": [
        {
          "output_type": "stream",
          "name": "stdout",
          "text": [
            "CPU times: user 4 µs, sys: 0 ns, total: 4 µs\n",
            "Wall time: 7.87 µs\n"
          ]
        }
      ]
    },
    {
      "cell_type": "code",
      "source": [
        "%%timeit\n",
        "x=1\n",
        "y=2\n",
        "z=x+y"
      ],
      "metadata": {
        "colab": {
          "base_uri": "https://localhost:8080/"
        },
        "id": "KPCZUv5VU2ok",
        "outputId": "411bf9c9-56b8-42bc-bf4a-669786fe0072"
      },
      "execution_count": null,
      "outputs": [
        {
          "output_type": "stream",
          "name": "stdout",
          "text": [
            "The slowest run took 21.10 times longer than the fastest. This could mean that an intermediate result is being cached.\n",
            "10000000 loops, best of 5: 51.7 ns per loop\n"
          ]
        }
      ]
    },
    {
      "cell_type": "code",
      "source": [
        "a = %timeit -qo x=5"
      ],
      "metadata": {
        "id": "pIc2bpl2VWR0"
      },
      "execution_count": null,
      "outputs": []
    },
    {
      "cell_type": "code",
      "source": [
        "a"
      ],
      "metadata": {
        "colab": {
          "base_uri": "https://localhost:8080/"
        },
        "id": "XkHILSa5Vs0o",
        "outputId": "c95dc486-5efc-443c-eacb-ce63fba42fb6"
      },
      "execution_count": null,
      "outputs": [
        {
          "output_type": "execute_result",
          "data": {
            "text/plain": [
              "<TimeitResult : 10000000 loops, best of 5: 20.4 ns per loop>"
            ]
          },
          "metadata": {},
          "execution_count": 46
        }
      ]
    },
    {
      "cell_type": "markdown",
      "source": [
        "## Numba Jit"
      ],
      "metadata": {
        "id": "5ccR8dHNV5mM"
      }
    },
    {
      "cell_type": "code",
      "source": [
        "def sum_array(input): # assume the input is a 2D array\n",
        "  J, I = input.shape\n",
        "\n",
        "  mysum = 0\n",
        "  for j in range(J):\n",
        "    for i in range(I):\n",
        "      mysum += input[j, i]\n",
        "  \n",
        "  return mysum"
      ],
      "metadata": {
        "id": "XXBEfmB-Vu7c"
      },
      "execution_count": null,
      "outputs": []
    },
    {
      "cell_type": "code",
      "source": [
        "a = np.random.random((4000,4000))"
      ],
      "metadata": {
        "id": "bs9Mn89dWfF1"
      },
      "execution_count": null,
      "outputs": []
    },
    {
      "cell_type": "code",
      "source": [
        "%time sum_array(a)"
      ],
      "metadata": {
        "colab": {
          "base_uri": "https://localhost:8080/"
        },
        "id": "MQAeVOJuWk8N",
        "outputId": "d2f84d83-4563-43e1-e561-9a9c8360969e"
      },
      "execution_count": null,
      "outputs": [
        {
          "output_type": "stream",
          "name": "stdout",
          "text": [
            "CPU times: user 3.4 s, sys: 5.98 ms, total: 3.4 s\n",
            "Wall time: 3.41 s\n"
          ]
        },
        {
          "output_type": "execute_result",
          "data": {
            "text/plain": [
              "7999963.631036575"
            ]
          },
          "metadata": {},
          "execution_count": 49
        }
      ]
    },
    {
      "cell_type": "code",
      "source": [
        "seq = %timeit -o sum_array(a)"
      ],
      "metadata": {
        "colab": {
          "base_uri": "https://localhost:8080/"
        },
        "id": "PqtlgpCBWodi",
        "outputId": "27409236-cc0f-4f1c-f9c1-6e3746c15ba1"
      },
      "execution_count": null,
      "outputs": [
        {
          "output_type": "stream",
          "name": "stdout",
          "text": [
            "1 loop, best of 5: 3.36 s per loop\n"
          ]
        }
      ]
    },
    {
      "cell_type": "code",
      "source": [
        "seq"
      ],
      "metadata": {
        "colab": {
          "base_uri": "https://localhost:8080/"
        },
        "id": "n52HMlGdWwfb",
        "outputId": "385e7215-7587-46de-daaa-ebd766d00044"
      },
      "execution_count": null,
      "outputs": [
        {
          "output_type": "execute_result",
          "data": {
            "text/plain": [
              "<TimeitResult : 1 loop, best of 5: 3.36 s per loop>"
            ]
          },
          "metadata": {},
          "execution_count": 52
        }
      ]
    },
    {
      "cell_type": "code",
      "source": [
        "%time a.sum()"
      ],
      "metadata": {
        "colab": {
          "base_uri": "https://localhost:8080/"
        },
        "id": "4CXC4OZlXIQm",
        "outputId": "6fa74e13-5514-49ab-b48f-55dd06e48ff4"
      },
      "execution_count": null,
      "outputs": [
        {
          "output_type": "stream",
          "name": "stdout",
          "text": [
            "CPU times: user 12 ms, sys: 0 ns, total: 12 ms\n",
            "Wall time: 13.6 ms\n"
          ]
        },
        {
          "output_type": "execute_result",
          "data": {
            "text/plain": [
              "7999963.631036352"
            ]
          },
          "metadata": {},
          "execution_count": 55
        }
      ]
    },
    {
      "cell_type": "code",
      "source": [
        "nptime = %timeit -o a.sum()"
      ],
      "metadata": {
        "colab": {
          "base_uri": "https://localhost:8080/"
        },
        "id": "zGqV8zTdXe_2",
        "outputId": "a2d5ddaa-4802-496c-968a-cf52608f038f"
      },
      "execution_count": null,
      "outputs": [
        {
          "output_type": "stream",
          "name": "stdout",
          "text": [
            "100 loops, best of 5: 10.8 ms per loop\n"
          ]
        }
      ]
    },
    {
      "cell_type": "code",
      "source": [
        "# regular sequential Python vs. Numpy\n",
        "speedup = seq.best / nptime.best\n",
        "speedup"
      ],
      "metadata": {
        "colab": {
          "base_uri": "https://localhost:8080/"
        },
        "id": "1I5HcHBxXzWD",
        "outputId": "965a9028-c162-4b46-c70d-eb5d0043c360"
      },
      "execution_count": null,
      "outputs": [
        {
          "output_type": "execute_result",
          "data": {
            "text/plain": [
              "311.68619397171955"
            ]
          },
          "metadata": {},
          "execution_count": 58
        }
      ]
    },
    {
      "cell_type": "code",
      "source": [
        "from numba import jit"
      ],
      "metadata": {
        "id": "Zfi26OVYX-RI"
      },
      "execution_count": null,
      "outputs": []
    },
    {
      "cell_type": "code",
      "source": [
        "sum_array_numba = jit()(sum_array)"
      ],
      "metadata": {
        "id": "LbfQqFzWYhmg"
      },
      "execution_count": null,
      "outputs": []
    },
    {
      "cell_type": "code",
      "source": [
        "%time sum_array_numba(a)"
      ],
      "metadata": {
        "colab": {
          "base_uri": "https://localhost:8080/"
        },
        "id": "RXBi3J1iY5gw",
        "outputId": "326febc4-6990-40ae-ce0f-8205010627a5"
      },
      "execution_count": null,
      "outputs": [
        {
          "output_type": "stream",
          "name": "stdout",
          "text": [
            "CPU times: user 25.8 ms, sys: 948 µs, total: 26.8 ms\n",
            "Wall time: 27.7 ms\n"
          ]
        },
        {
          "output_type": "execute_result",
          "data": {
            "text/plain": [
              "7999963.631036575"
            ]
          },
          "metadata": {},
          "execution_count": 62
        }
      ]
    },
    {
      "cell_type": "code",
      "source": [
        "nbtime = %timeit -o sum_array_numba(a)"
      ],
      "metadata": {
        "colab": {
          "base_uri": "https://localhost:8080/"
        },
        "id": "xjS4eWCCY-3-",
        "outputId": "f5252f80-5d52-4c20-b407-94b21d1ab8d6"
      },
      "execution_count": null,
      "outputs": [
        {
          "output_type": "stream",
          "name": "stdout",
          "text": [
            "10 loops, best of 5: 25.6 ms per loop\n"
          ]
        }
      ]
    },
    {
      "cell_type": "code",
      "source": [
        "seq.best / nbtime.best"
      ],
      "metadata": {
        "colab": {
          "base_uri": "https://localhost:8080/"
        },
        "id": "GZBHIaj2ZG90",
        "outputId": "8a9972b0-c847-4cfc-e2fa-e38f259f1c71"
      },
      "execution_count": null,
      "outputs": [
        {
          "output_type": "execute_result",
          "data": {
            "text/plain": [
              "130.90951091556957"
            ]
          },
          "metadata": {},
          "execution_count": 64
        }
      ]
    },
    {
      "cell_type": "code",
      "source": [
        "nbtime.best/nptime.best"
      ],
      "metadata": {
        "colab": {
          "base_uri": "https://localhost:8080/"
        },
        "id": "NUB3P0qoZLD3",
        "outputId": "fcacb404-c7f1-4bb2-d088-b10943773c34"
      },
      "execution_count": null,
      "outputs": [
        {
          "output_type": "execute_result",
          "data": {
            "text/plain": [
              "2.3809285650203247"
            ]
          },
          "metadata": {},
          "execution_count": 65
        }
      ]
    },
    {
      "cell_type": "code",
      "source": [
        "@jit  # decorator\n",
        "def sum_array(input): # assume the input is a 2D array\n",
        "  J, I = input.shape\n",
        "\n",
        "  mysum = 0\n",
        "  for j in range(J):\n",
        "    for i in range(I):\n",
        "      mysum += input[j, i]\n",
        "  \n",
        "  return mysum"
      ],
      "metadata": {
        "id": "8r4Abs-fZ11t"
      },
      "execution_count": null,
      "outputs": []
    },
    {
      "cell_type": "code",
      "source": [
        "%timeit sum_array(a)"
      ],
      "metadata": {
        "colab": {
          "base_uri": "https://localhost:8080/"
        },
        "id": "efHKMhSdbhep",
        "outputId": "630ef058-91da-44a2-f890-6c07ea003229"
      },
      "execution_count": null,
      "outputs": [
        {
          "output_type": "stream",
          "name": "stdout",
          "text": [
            "The slowest run took 5.75 times longer than the fastest. This could mean that an intermediate result is being cached.\n",
            "10 loops, best of 5: 25.7 ms per loop\n"
          ]
        }
      ]
    },
    {
      "cell_type": "markdown",
      "source": [
        "# How Numba Jit works?"
      ],
      "metadata": {
        "id": "ETltWThvcc6w"
      }
    },
    {
      "cell_type": "code",
      "source": [
        "@jit\n",
        "def add(a, b):\n",
        "  return a+b"
      ],
      "metadata": {
        "id": "kY3V7OiwbnSk"
      },
      "execution_count": null,
      "outputs": []
    },
    {
      "cell_type": "code",
      "source": [
        "add(1,2)"
      ],
      "metadata": {
        "colab": {
          "base_uri": "https://localhost:8080/"
        },
        "id": "7-DbGPW1ct03",
        "outputId": "f900c7b7-d55e-4139-f060-5891be0a2d6d"
      },
      "execution_count": null,
      "outputs": [
        {
          "output_type": "execute_result",
          "data": {
            "text/plain": [
              "3"
            ]
          },
          "metadata": {},
          "execution_count": 71
        }
      ]
    },
    {
      "cell_type": "code",
      "source": [
        "add.inspect_types()"
      ],
      "metadata": {
        "colab": {
          "base_uri": "https://localhost:8080/"
        },
        "id": "RKDvK1GGcu4B",
        "outputId": "a819aec7-f6aa-4907-ea9e-d0d4431164f3"
      },
      "execution_count": null,
      "outputs": [
        {
          "output_type": "stream",
          "name": "stdout",
          "text": [
            "add (int64, int64)\n",
            "--------------------------------------------------------------------------------\n",
            "# File: <ipython-input-70-04b5d46e4ce0>\n",
            "# --- LINE 1 --- \n",
            "\n",
            "@jit\n",
            "\n",
            "# --- LINE 2 --- \n",
            "\n",
            "def add(a, b):\n",
            "\n",
            "  # --- LINE 3 --- \n",
            "  # label 0\n",
            "  #   a = arg(0, name=a)  :: int64\n",
            "  #   b = arg(1, name=b)  :: int64\n",
            "  #   $6binary_add.2 = a + b  :: int64\n",
            "  #   del b\n",
            "  #   del a\n",
            "  #   $8return_value.3 = cast(value=$6binary_add.2)  :: int64\n",
            "  #   del $6binary_add.2\n",
            "  #   return $8return_value.3\n",
            "\n",
            "  return a+b\n",
            "\n",
            "\n",
            "================================================================================\n"
          ]
        }
      ]
    },
    {
      "cell_type": "code",
      "source": [
        "add(1.0, 2.1)"
      ],
      "metadata": {
        "colab": {
          "base_uri": "https://localhost:8080/"
        },
        "id": "wPcc-CiLc9vm",
        "outputId": "fced4023-1ee5-4adc-bd16-11134d411fcb"
      },
      "execution_count": null,
      "outputs": [
        {
          "output_type": "execute_result",
          "data": {
            "text/plain": [
              "3.1"
            ]
          },
          "metadata": {},
          "execution_count": 75
        }
      ]
    },
    {
      "cell_type": "code",
      "source": [
        "add.inspect_types()"
      ],
      "metadata": {
        "colab": {
          "base_uri": "https://localhost:8080/"
        },
        "id": "CbfcpqDEeRil",
        "outputId": "bccd3d87-8948-4aa1-a6b9-249a73b0aae1"
      },
      "execution_count": null,
      "outputs": [
        {
          "output_type": "stream",
          "name": "stdout",
          "text": [
            "add (int64, int64)\n",
            "--------------------------------------------------------------------------------\n",
            "# File: <ipython-input-70-04b5d46e4ce0>\n",
            "# --- LINE 1 --- \n",
            "\n",
            "@jit\n",
            "\n",
            "# --- LINE 2 --- \n",
            "\n",
            "def add(a, b):\n",
            "\n",
            "  # --- LINE 3 --- \n",
            "  # label 0\n",
            "  #   a = arg(0, name=a)  :: int64\n",
            "  #   b = arg(1, name=b)  :: int64\n",
            "  #   $6binary_add.2 = a + b  :: int64\n",
            "  #   del b\n",
            "  #   del a\n",
            "  #   $8return_value.3 = cast(value=$6binary_add.2)  :: int64\n",
            "  #   del $6binary_add.2\n",
            "  #   return $8return_value.3\n",
            "\n",
            "  return a+b\n",
            "\n",
            "\n",
            "================================================================================\n",
            "add (float64, float64)\n",
            "--------------------------------------------------------------------------------\n",
            "# File: <ipython-input-70-04b5d46e4ce0>\n",
            "# --- LINE 1 --- \n",
            "\n",
            "@jit\n",
            "\n",
            "# --- LINE 2 --- \n",
            "\n",
            "def add(a, b):\n",
            "\n",
            "  # --- LINE 3 --- \n",
            "  # label 0\n",
            "  #   a = arg(0, name=a)  :: float64\n",
            "  #   b = arg(1, name=b)  :: float64\n",
            "  #   $6binary_add.2 = a + b  :: float64\n",
            "  #   del b\n",
            "  #   del a\n",
            "  #   $8return_value.3 = cast(value=$6binary_add.2)  :: float64\n",
            "  #   del $6binary_add.2\n",
            "  #   return $8return_value.3\n",
            "\n",
            "  return a+b\n",
            "\n",
            "\n",
            "================================================================================\n"
          ]
        }
      ]
    },
    {
      "cell_type": "code",
      "source": [
        "for k, v in add.inspect_llvm().items():\n",
        "  print(k, v)"
      ],
      "metadata": {
        "id": "D8Efx2xneU6_"
      },
      "execution_count": null,
      "outputs": []
    },
    {
      "cell_type": "code",
      "source": [
        "%%time\n",
        "# C++ PI program takes 1.5 seconds\n",
        "sum = 0\n",
        "num_steps = 100000000  # 100 million\n",
        "step = 1.0/num_steps\n",
        "for i in range(num_steps):\n",
        "    x = (i-0.5)*step\n",
        "    sum = sum + 4.0/(1.0+x*x)\n",
        "pi = step * sum"
      ],
      "metadata": {
        "colab": {
          "base_uri": "https://localhost:8080/"
        },
        "id": "4_fzD3vJep5A",
        "outputId": "b27509bc-b81a-44c8-d098-d91dbccb13dc"
      },
      "execution_count": null,
      "outputs": [
        {
          "output_type": "stream",
          "name": "stdout",
          "text": [
            "CPU times: user 29.5 s, sys: 64.4 ms, total: 29.6 s\n",
            "Wall time: 29.6 s\n"
          ]
        }
      ]
    },
    {
      "cell_type": "code",
      "source": [
        "pi"
      ],
      "metadata": {
        "colab": {
          "base_uri": "https://localhost:8080/"
        },
        "id": "_c7ivgq7gmrQ",
        "outputId": "dcb8c710-aaa6-46f5-d0f1-ce805114ca30"
      },
      "execution_count": null,
      "outputs": [
        {
          "output_type": "execute_result",
          "data": {
            "text/plain": [
              "3.1415926735904267"
            ]
          },
          "metadata": {},
          "execution_count": 81
        }
      ]
    },
    {
      "cell_type": "code",
      "source": [
        "@jit\n",
        "def pi_cal(num_steps):\n",
        "  sum = 0\n",
        "  step = 1.0/num_steps\n",
        "  for i in range(num_steps):\n",
        "      x = (i-0.5)*step\n",
        "      sum = sum + 4.0/(1.0+x*x)\n",
        "  pi = step * sum\n",
        "  return pi"
      ],
      "metadata": {
        "id": "_C7ch1sXNzgg"
      },
      "execution_count": null,
      "outputs": []
    },
    {
      "cell_type": "code",
      "source": [
        "%timeit pi = pi_cal(1000000000)"
      ],
      "metadata": {
        "colab": {
          "base_uri": "https://localhost:8080/"
        },
        "id": "0ARqaDj1OVff",
        "outputId": "b0a5a87f-672f-49f6-b6dc-b5940157ca5f"
      },
      "execution_count": null,
      "outputs": [
        {
          "output_type": "stream",
          "name": "stdout",
          "text": [
            "1 loop, best of 5: 1.58 s per loop\n"
          ]
        }
      ]
    },
    {
      "cell_type": "markdown",
      "source": [
        ""
      ],
      "metadata": {
        "id": "pGU2LMOKhhm1"
      }
    },
    {
      "cell_type": "code",
      "source": [
        "pi"
      ],
      "metadata": {
        "colab": {
          "base_uri": "https://localhost:8080/"
        },
        "id": "776xkEpxOlU9",
        "outputId": "e58c5f69-0048-427f-86f2-5f2ffd7c602f"
      },
      "execution_count": null,
      "outputs": [
        {
          "output_type": "execute_result",
          "data": {
            "text/plain": [
              "3.1415926735904267"
            ]
          },
          "metadata": {},
          "execution_count": 12
        }
      ]
    },
    {
      "cell_type": "code",
      "source": [
        "%lprun -T timings.txt -f pi_cal pi_cal(10000000)"
      ],
      "metadata": {
        "colab": {
          "base_uri": "https://localhost:8080/"
        },
        "id": "TbigMKfXWR9m",
        "outputId": "010e70eb-f6fa-4f5f-953a-b53f4bcec5de"
      },
      "execution_count": null,
      "outputs": [
        {
          "output_type": "stream",
          "name": "stdout",
          "text": [
            "\n",
            "*** Profile printout saved to text file 'timings.txt'. \n"
          ]
        }
      ]
    },
    {
      "cell_type": "code",
      "source": [
        "cProfile.run('pi_cal(1000000000)')"
      ],
      "metadata": {
        "colab": {
          "base_uri": "https://localhost:8080/"
        },
        "id": "p9luNHCJXCUX",
        "outputId": "47c2168a-daf4-47e3-e17a-9ce6ccba3225"
      },
      "execution_count": null,
      "outputs": [
        {
          "output_type": "stream",
          "name": "stdout",
          "text": [
            "         4 function calls in 1.572 seconds\n",
            "\n",
            "   Ordered by: standard name\n",
            "\n",
            "   ncalls  tottime  percall  cumtime  percall filename:lineno(function)\n",
            "        1    1.572    1.572    1.572    1.572 <ipython-input-3-cf5078cde8aa>:1(pi_cal)\n",
            "        1    0.001    0.001    1.572    1.572 <string>:1(<module>)\n",
            "        1    0.000    0.000    1.572    1.572 {built-in method builtins.exec}\n",
            "        1    0.000    0.000    0.000    0.000 {method 'disable' of '_lsprof.Profiler' objects}\n",
            "\n",
            "\n"
          ]
        }
      ]
    },
    {
      "cell_type": "markdown",
      "source": [
        "## Comparison of C++/OpenMP, Python plain, Numpy, and Numba (CPU and Nvidia CUDA GPU)\n",
        "## Conduct the performance analysis"
      ],
      "metadata": {
        "id": "lFjb47Ozgvs2"
      }
    },
    {
      "cell_type": "code",
      "source": [
        ""
      ],
      "metadata": {
        "id": "E_DZn-REgnfq"
      },
      "execution_count": null,
      "outputs": []
    }
  ]
}