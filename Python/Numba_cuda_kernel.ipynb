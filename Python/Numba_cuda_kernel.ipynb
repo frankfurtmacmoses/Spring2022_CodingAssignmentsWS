{
  "nbformat": 4,
  "nbformat_minor": 0,
  "metadata": {
    "colab": {
      "name": "Numba-cuda-kernel.ipynb",
      "provenance": [],
      "collapsed_sections": [],
      "authorship_tag": "ABX9TyMoQJcKt+e0DZYygH8zN55S",
      "include_colab_link": true
    },
    "kernelspec": {
      "name": "python3",
      "display_name": "Python 3"
    },
    "language_info": {
      "name": "python"
    },
    "accelerator": "GPU"
  },
  "cells": [
    {
      "cell_type": "markdown",
      "metadata": {
        "id": "view-in-github",
        "colab_type": "text"
      },
      "source": [
        "<a href=\"https://colab.research.google.com/github/lhuang-pvamu/Parallel-Computing-Code/blob/master/Numba_cuda_kernel.ipynb\" target=\"_parent\"><img src=\"https://colab.research.google.com/assets/colab-badge.svg\" alt=\"Open In Colab\"/></a>"
      ]
    },
    {
      "cell_type": "markdown",
      "source": [
        "# Numba Cuda Kernel Tutorial\n",
        "\n",
        "Ufuncs are the easiest way to write a Numba program on GPU and multicores. However, some functions are complex or need more flexibility to use Ufuncs, in which case you may define a CUDA Kernel. \n",
        "\n",
        "To write a CUDA kernal, it is essential to understand the diagram below, which shows the a thread grid divided into blocks of threads in a GPU. A kernel is to define the execution of ***a single thread*** in the thread grid. \n",
        "\n",
        "To decide the best size for the CUDA thread grid is not easy depending on the algorithm and GPU architectures, some rules of thumb:\n",
        "\n",
        "\n",
        "\n",
        "1.   The size of a block should be a multiple of 32 threads, such as 128 or 512 threads per block.\n",
        "2.   The size of the grid should ensure the  GPU is fully utilized. The number blocks is 2x-4x the number of \"multiprocessors\" on the GPU is a good starting place. The number of blocks are in the range of 20-100.\n",
        "3. The CUDA kernel launch overhead depends on the number blocks. \n",
        "\n"
      ],
      "metadata": {
        "id": "RSf0IJSwmcoo"
      }
    },
    {
      "cell_type": "markdown",
      "source": [
        "![cuda-threads-grid.png](data:image/png;base64,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)"
      ],
      "metadata": {
        "id": "mR3huUqlmSiy"
      }
    },
    {
      "cell_type": "code",
      "source": [
        "def add(x,y,out):\n",
        "  out = x + y"
      ],
      "metadata": {
        "id": "8y2eiz8QmRal"
      },
      "execution_count": null,
      "outputs": []
    },
    {
      "cell_type": "code",
      "source": [
        "from numba import cuda,jit,vectorize\n",
        "\n",
        "@cuda.jit\n",
        "def add_kernel(x,y,out):\n",
        "  tx = cuda.threadIdx.x  # the thread ID in a 1D block\n",
        "  ty = cuda.blockIdx.x  # the block ID in a 1D grid\n",
        "\n",
        "  block_size = cuda.blockDim.x # number of threads per block\n",
        "  grid_size = cuda.gridDim.x # number of blocks in the grid\n",
        "\n",
        "  start = tx + ty*block_size\n",
        "  stride = block_size * grid_size\n",
        "\n",
        "  for i in range(start, x.shape[0], stride):\n",
        "    out[i] = x[i]+y[i]\n"
      ],
      "metadata": {
        "id": "agXQLgw0w1DH"
      },
      "execution_count": null,
      "outputs": []
    },
    {
      "cell_type": "code",
      "source": [
        "import numpy as np\n",
        "\n",
        "n = 1000000\n",
        "x = np.arange(n).astype(np.float32)\n",
        "y = 2.0 * x\n",
        "out = np.empty_like(x)\n",
        "\n",
        "threads_per_block = 512\n",
        "blocks_per_grid = 30\n",
        "\n"
      ],
      "metadata": {
        "id": "nK7Ca6eQxn1t"
      },
      "execution_count": null,
      "outputs": []
    },
    {
      "cell_type": "code",
      "source": [
        "%timeit add_kernel[blocks_per_grid, threads_per_block](x, y, out)\n",
        "print(out[:10])"
      ],
      "metadata": {
        "colab": {
          "base_uri": "https://localhost:8080/"
        },
        "id": "YdN7aK5Xx13x",
        "outputId": "163326f5-0cdc-4d4c-f612-63c978141eb0"
      },
      "execution_count": null,
      "outputs": [
        {
          "output_type": "stream",
          "name": "stdout",
          "text": [
            "100 loops, best of 5: 7.75 ms per loop\n",
            "[ 0.  3.  6.  9. 12. 15. 18. 21. 24. 27.]\n"
          ]
        }
      ]
    },
    {
      "cell_type": "code",
      "source": [
        "%timeit np.add(x,y)"
      ],
      "metadata": {
        "colab": {
          "base_uri": "https://localhost:8080/"
        },
        "id": "IBQW7CQ1yzGB",
        "outputId": "30b79944-a86a-462f-cf0b-6e1515bc22a4"
      },
      "execution_count": null,
      "outputs": [
        {
          "output_type": "stream",
          "name": "stdout",
          "text": [
            "1000 loops, best of 5: 665 µs per loop\n"
          ]
        }
      ]
    },
    {
      "cell_type": "code",
      "source": [
        "@vectorize(['int64(int64, int64)','float32(float32, float32)'], target='cuda')\n",
        "def add_ufunc(x,y):\n",
        "  return x+y"
      ],
      "metadata": {
        "id": "YusG4NMPy8g1"
      },
      "execution_count": null,
      "outputs": []
    },
    {
      "cell_type": "code",
      "source": [
        "%timeit add_ufunc(x,y)"
      ],
      "metadata": {
        "colab": {
          "base_uri": "https://localhost:8080/"
        },
        "id": "DyFu8Iu0zH_N",
        "outputId": "794eb6d3-c484-48a7-a4f8-108c15285cc1"
      },
      "execution_count": null,
      "outputs": [
        {
          "output_type": "stream",
          "name": "stdout",
          "text": [
            "100 loops, best of 5: 5.74 ms per loop\n"
          ]
        }
      ]
    },
    {
      "cell_type": "code",
      "source": [
        "@cuda.jit\n",
        "def add_kernel(x, y, out):\n",
        "    start = cuda.grid(1)      # 1 = one dimensional thread grid, returns a single value\n",
        "    stride = cuda.gridsize(1) # ditto\n",
        "\n",
        "    # assuming x and y inputs are same length\n",
        "    for i in range(start, x.shape[0], stride):\n",
        "        out[i] = x[i] + y[i]"
      ],
      "metadata": {
        "id": "EkDdh79_zK4J"
      },
      "execution_count": null,
      "outputs": []
    },
    {
      "cell_type": "code",
      "source": [
        "x_device = cuda.to_device(x)\n",
        "y_device = cuda.to_device(y)\n",
        "out_device = cuda.device_array_like(x)"
      ],
      "metadata": {
        "id": "zoU6K4iH2R9X"
      },
      "execution_count": null,
      "outputs": []
    },
    {
      "cell_type": "code",
      "source": [
        "%timeit add_kernel[blocks_per_grid, threads_per_block](x, y, out)"
      ],
      "metadata": {
        "colab": {
          "base_uri": "https://localhost:8080/"
        },
        "id": "gzzhr4702YBC",
        "outputId": "ebb92659-d78b-4d19-f373-04b242e31a36"
      },
      "execution_count": null,
      "outputs": [
        {
          "output_type": "stream",
          "name": "stdout",
          "text": [
            "100 loops, best of 5: 7.81 ms per loop\n"
          ]
        }
      ]
    },
    {
      "cell_type": "code",
      "source": [
        "%timeit add_kernel[blocks_per_grid, threads_per_block](x_device, y_device, out_device); out_device.copy_to_host()\n"
      ],
      "metadata": {
        "colab": {
          "base_uri": "https://localhost:8080/"
        },
        "id": "92CMC0cl2Z72",
        "outputId": "015eab31-0860-4d14-afbf-e7bd2426d882"
      },
      "execution_count": null,
      "outputs": [
        {
          "output_type": "stream",
          "name": "stdout",
          "text": [
            "1000 loops, best of 5: 1.33 ms per loop\n"
          ]
        }
      ]
    },
    {
      "cell_type": "markdown",
      "source": [
        "##Kernel Synchronization"
      ],
      "metadata": {
        "id": "PVsYFVLzpoop"
      }
    },
    {
      "cell_type": "code",
      "source": [
        "# GPU input/output arrays, no synchronization (but force sync before and after)\n",
        "cuda.synchronize()\n",
        "%timeit add_kernel[blocks_per_grid, threads_per_block](x_device, y_device, out_device)\n",
        "cuda.synchronize()"
      ],
      "metadata": {
        "colab": {
          "base_uri": "https://localhost:8080/"
        },
        "id": "xbFWPenD2jiP",
        "outputId": "4566b589-2a22-4ae0-fcc1-c3816733732d"
      },
      "execution_count": null,
      "outputs": [
        {
          "output_type": "stream",
          "name": "stdout",
          "text": [
            "1000 loops, best of 5: 277 µs per loop\n"
          ]
        }
      ]
    },
    {
      "cell_type": "code",
      "source": [
        "# GPU input/output arrays, include explicit synchronization in timing\n",
        "cuda.synchronize()\n",
        "%timeit add_kernel[blocks_per_grid, threads_per_block](x_device, y_device, out_device); cuda.synchronize()"
      ],
      "metadata": {
        "colab": {
          "base_uri": "https://localhost:8080/"
        },
        "id": "yHP-csWw24QG",
        "outputId": "d82d16e0-5f31-4a88-a819-a777d0cd2874"
      },
      "execution_count": null,
      "outputs": [
        {
          "output_type": "stream",
          "name": "stdout",
          "text": [
            "1000 loops, best of 5: 402 µs per loop\n"
          ]
        }
      ]
    },
    {
      "cell_type": "markdown",
      "source": [
        "## Atomic Operations"
      ],
      "metadata": {
        "id": "J_oWDQgwpOgM"
      }
    },
    {
      "cell_type": "code",
      "source": [
        "@cuda.jit\n",
        "def race_condition_increment(global_counter):  # wrong\n",
        "  global_counter[0] += 1"
      ],
      "metadata": {
        "id": "bTyFrhAx3QRK"
      },
      "execution_count": null,
      "outputs": []
    },
    {
      "cell_type": "code",
      "source": [
        "@cuda.jit\n",
        "def thread_safe_increment(global_counter): #\n",
        "  cuda.atomic.add(global_counter, 0, 1)"
      ],
      "metadata": {
        "id": "S6npvEIhpSvd"
      },
      "execution_count": null,
      "outputs": []
    },
    {
      "cell_type": "code",
      "source": [
        "global_counter = cuda.to_device(np.array([0], dtype=np.int32))\n",
        "race_condition_increment[64, 64](global_counter)\n",
        "print(64*64, global_counter.copy_to_host())"
      ],
      "metadata": {
        "id": "RY38HwKKpXRI"
      },
      "execution_count": null,
      "outputs": []
    },
    {
      "cell_type": "code",
      "source": [
        "global_counter = cuda.to_device(np.array([0], dtype=np.int32))\n",
        "thread_safe_increment[64, 64](global_counter)\n",
        "print(64*64, global_counter.copy_to_host())"
      ],
      "metadata": {
        "id": "GPbPoP4ipYCr"
      },
      "execution_count": null,
      "outputs": []
    }
  ]
}