{
 "cells": [
  {
   "cell_type": "code",
   "execution_count": 1,
   "metadata": {},
   "outputs": [],
   "source": [
    "from numba import jit"
   ]
  },
  {
   "cell_type": "code",
   "execution_count": 2,
   "metadata": {},
   "outputs": [
    {
     "name": "stdout",
     "output_type": "stream",
     "text": [
      "Requirement already satisfied: numba in /Users/leihuang/anaconda3/envs/dask-tutorial/lib/python3.7/site-packages (0.48.0)\n",
      "Requirement already satisfied: setuptools in /Users/leihuang/anaconda3/envs/dask-tutorial/lib/python3.7/site-packages (from numba) (46.1.1.post20200322)\n",
      "Requirement already satisfied: numpy>=1.15 in /Users/leihuang/anaconda3/envs/dask-tutorial/lib/python3.7/site-packages (from numba) (1.18.1)\n",
      "Requirement already satisfied: llvmlite<0.32.0,>=0.31.0dev0 in /Users/leihuang/anaconda3/envs/dask-tutorial/lib/python3.7/site-packages (from numba) (0.31.0)\n"
     ]
    }
   ],
   "source": [
    "!pip install numba"
   ]
  },
  {
   "cell_type": "code",
   "execution_count": null,
   "metadata": {},
   "outputs": [],
   "source": []
  }
 ],
 "metadata": {
  "kernelspec": {
   "display_name": "Python 3",
   "language": "python",
   "name": "python3"
  },
  "language_info": {
   "codemirror_mode": {
    "name": "ipython",
    "version": 3
   },
   "file_extension": ".py",
   "mimetype": "text/x-python",
   "name": "python",
   "nbconvert_exporter": "python",
   "pygments_lexer": "ipython3",
   "version": "3.7.6"
  }
 },
 "nbformat": 4,
 "nbformat_minor": 4
}
